{
 "cells": [
  {
   "cell_type": "code",
   "execution_count": 1,
   "metadata": {
    "collapsed": true
   },
   "outputs": [],
   "source": [
    "import pandas as pd"
   ]
  },
  {
   "cell_type": "code",
   "execution_count": 18,
   "metadata": {},
   "outputs": [
    {
     "name": "stdout",
     "output_type": "stream",
     "text": [
      "  Company Name Location  Qty Sold  Turnover\n",
      "0    Company A       NY       100      1000\n",
      "1    Company B       NY        90       900\n",
      "2    Company B       DE         5        50\n",
      "3    Company C       NY         1        10\n",
      "4    Company C       DE        10       100\n",
      "5    Company C       MD       200      2000\n"
     ]
    }
   ],
   "source": [
    "# The sample dataframe.\n",
    "data = pd.DataFrame([['Company A', 'NY', 100, 1000],\n",
    "                    ['Company B', 'NY', 90, 900],\n",
    "                    ['Company B', 'DE', 5, 50],\n",
    "                    ['Company C', 'NY', 1, 10],\n",
    "                    ['Company C', 'DE', 10, 100],\n",
    "                    ['Company C', 'MD', 200, 2000]],\n",
    "                    columns=['Company Name', 'Location', 'Qty Sold', 'Turnover'])\n",
    "\n",
    "print(data)"
   ]
  },
  {
   "cell_type": "code",
   "execution_count": 19,
   "metadata": {},
   "outputs": [
    {
     "data": {
      "text/html": [
       "<div>\n",
       "<style>\n",
       "    .dataframe thead tr:only-child th {\n",
       "        text-align: right;\n",
       "    }\n",
       "\n",
       "    .dataframe thead th {\n",
       "        text-align: left;\n",
       "    }\n",
       "\n",
       "    .dataframe tbody tr th {\n",
       "        vertical-align: top;\n",
       "    }\n",
       "</style>\n",
       "<table border=\"1\" class=\"dataframe\">\n",
       "  <thead>\n",
       "    <tr style=\"text-align: right;\">\n",
       "      <th></th>\n",
       "      <th></th>\n",
       "      <th>Qty Sold</th>\n",
       "      <th>Turnover</th>\n",
       "    </tr>\n",
       "    <tr>\n",
       "      <th>Company Name</th>\n",
       "      <th>Location</th>\n",
       "      <th></th>\n",
       "      <th></th>\n",
       "    </tr>\n",
       "  </thead>\n",
       "  <tbody>\n",
       "    <tr>\n",
       "      <th>Company A</th>\n",
       "      <th>NY</th>\n",
       "      <td>100</td>\n",
       "      <td>1000</td>\n",
       "    </tr>\n",
       "    <tr>\n",
       "      <th rowspan=\"2\" valign=\"top\">Company B</th>\n",
       "      <th>NY</th>\n",
       "      <td>90</td>\n",
       "      <td>900</td>\n",
       "    </tr>\n",
       "    <tr>\n",
       "      <th>DE</th>\n",
       "      <td>5</td>\n",
       "      <td>50</td>\n",
       "    </tr>\n",
       "    <tr>\n",
       "      <th rowspan=\"3\" valign=\"top\">Company C</th>\n",
       "      <th>NY</th>\n",
       "      <td>1</td>\n",
       "      <td>10</td>\n",
       "    </tr>\n",
       "    <tr>\n",
       "      <th>DE</th>\n",
       "      <td>10</td>\n",
       "      <td>100</td>\n",
       "    </tr>\n",
       "    <tr>\n",
       "      <th>MD</th>\n",
       "      <td>200</td>\n",
       "      <td>2000</td>\n",
       "    </tr>\n",
       "  </tbody>\n",
       "</table>\n",
       "</div>"
      ],
      "text/plain": [
       "                       Qty Sold  Turnover\n",
       "Company Name Location                    \n",
       "Company A    NY             100      1000\n",
       "Company B    NY              90       900\n",
       "             DE               5        50\n",
       "Company C    NY               1        10\n",
       "             DE              10       100\n",
       "             MD             200      2000"
      ]
     },
     "execution_count": 19,
     "metadata": {},
     "output_type": "execute_result"
    }
   ],
   "source": [
    "# I like how the data is naturally grouped by company name once I set the index.\n",
    "data.set_index(['Company Name', 'Location'])\n",
    "\n"
   ]
  },
  {
   "cell_type": "code",
   "execution_count": 11,
   "metadata": {},
   "outputs": [
    {
     "name": "stdout",
     "output_type": "stream",
     "text": [
      "      Company Name Location  Qty Sold  Turnover\n",
      "0        Company C       MD       200      2000\n",
      "1        Company C       DE        10       100\n",
      "2  Company C Total                211      2110\n",
      "3        Company A       NY       100      1000\n",
      "4  Company A Total                100      1000\n",
      "5        Company B       NY        90       900\n",
      "6        Company B       DE         5        50\n",
      "7  Company B Total                 95       950\n",
      "8      Grand Total                406      4060\n"
     ]
    }
   ],
   "source": [
    "# The following is the order that the final dataframe should follow. I want to \n",
    "# keep the natural grouping by company name and add a subtotal for each grouping and a final grand total \n", 
    "# at the bottom.\n",
    "# Finally I want to sort the natural company name groupings by their subtotals.\n",
    "final_result = pd.DataFrame([['Company C', 'MD', 200, 2000],\n",
    "                            ['Company C', 'DE', 10, 100],\n",
    "                            ['Company C Total', '', 211, 2110],\n",
    "                            ['Company A', 'NY', 100, 1000],\n",
    "                            ['Company A Total', '', 100, 1000],\n",
    "                            ['Company B', 'NY', 90, 900],\n",
    "                            ['Company B', 'DE', 5, 50],\n",
    "                            ['Company B Total', '', 95, 950],\n",
    "                            ['Grand Total', '', 406, 4060]],\n",
    "                           columns=['Company Name', 'Location', 'Qty Sold', 'Turnover'])\n",
    "print(final_result)\n"
   ]
  },
  {
   "cell_type": "code",
   "execution_count": 20,
   "metadata": {},
   "outputs": [
    {
     "data": {
      "text/html": [
       "<div>\n",
       "<style>\n",
       "    .dataframe thead tr:only-child th {\n",
       "        text-align: right;\n",
       "    }\n",
       "\n",
       "    .dataframe thead th {\n",
       "        text-align: left;\n",
       "    }\n",
       "\n",
       "    .dataframe tbody tr th {\n",
       "        vertical-align: top;\n",
       "    }\n",
       "</style>\n",
       "<table border=\"1\" class=\"dataframe\">\n",
       "  <thead>\n",
       "    <tr style=\"text-align: right;\">\n",
       "      <th></th>\n",
       "      <th></th>\n",
       "      <th>Qty Sold</th>\n",
       "      <th>Turnover</th>\n",
       "    </tr>\n",
       "    <tr>\n",
       "      <th>Company Name</th>\n",
       "      <th>Location</th>\n",
       "      <th></th>\n",
       "      <th></th>\n",
       "    </tr>\n",
       "  </thead>\n",
       "  <tbody>\n",
       "    <tr>\n",
       "      <th>Company C</th>\n",
       "      <th>MD</th>\n",
       "      <td>200</td>\n",
       "      <td>2000</td>\n",
       "    </tr>\n",
       "    <tr>\n",
       "      <th>Company A</th>\n",
       "      <th>NY</th>\n",
       "      <td>100</td>\n",
       "      <td>1000</td>\n",
       "    </tr>\n",
       "    <tr>\n",
       "      <th>Company B</th>\n",
       "      <th>NY</th>\n",
       "      <td>90</td>\n",
       "      <td>900</td>\n",
       "    </tr>\n",
       "    <tr>\n",
       "      <th>Company C</th>\n",
       "      <th>DE</th>\n",
       "      <td>10</td>\n",
       "      <td>100</td>\n",
       "    </tr>\n",
       "    <tr>\n",
       "      <th>Company B</th>\n",
       "      <th>DE</th>\n",
       "      <td>5</td>\n",
       "      <td>50</td>\n",
       "    </tr>\n",
       "    <tr>\n",
       "      <th>Company C</th>\n",
       "      <th>NY</th>\n",
       "      <td>1</td>\n",
       "      <td>10</td>\n",
       "    </tr>\n",
       "  </tbody>\n",
       "</table>\n",
       "</div>"
      ],
      "text/plain": [
       "                       Qty Sold  Turnover\n",
       "Company Name Location                    \n",
       "Company C    MD             200      2000\n",
       "Company A    NY             100      1000\n",
       "Company B    NY              90       900\n",
       "Company C    DE              10       100\n",
       "Company B    DE               5        50\n",
       "Company C    NY               1        10"
      ]
     },
     "execution_count": 20,
     "metadata": {},
     "output_type": "execute_result"
    }
   ],
   "source": [
    "# Whenever I try to sort the data by turnover I get the following.\n",
    "data.set_index(['Company Name', 'Location']).sort_values('Turnover', ascending=False)\n",
    "\n",
    "# As you can see, the natural grouping by company name is destroyed.\n",
    "# I want to keep the company name grouping, while sorting by which company has\n",
    "# the highest turnover.\n",
    "\n",
    "# Sorting by location within the company name grouping is no big deal, as long as\n",
    "# the subtotal for each company is at the bottom of each grouping."
   ]
  }
 ],
 "metadata": {
  "kernelspec": {
   "display_name": "Python 3",
   "language": "python",
   "name": "python3"
  },
  "language_info": {
   "codemirror_mode": {
    "name": "ipython",
    "version": 3
   },
   "file_extension": ".py",
   "mimetype": "text/x-python",
   "name": "python",
   "nbconvert_exporter": "python",
   "pygments_lexer": "ipython3",
   "version": "3.6.3"
  }
 },
 "nbformat": 4,
 "nbformat_minor": 2
}
