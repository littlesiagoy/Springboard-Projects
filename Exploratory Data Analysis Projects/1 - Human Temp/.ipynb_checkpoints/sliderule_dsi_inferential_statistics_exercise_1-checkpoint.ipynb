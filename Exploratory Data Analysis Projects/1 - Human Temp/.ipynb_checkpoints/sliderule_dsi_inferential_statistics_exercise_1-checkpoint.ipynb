{
 "cells": [
  {
   "cell_type": "markdown",
   "metadata": {},
   "source": [
    "# What is the True Normal Human Body Temperature? \n",
    "\n",
    "#### Background\n",
    "\n",
    "The mean normal body temperature was held to be 37$^{\\circ}$C or 98.6$^{\\circ}$F for more than 120 years since it was first conceptualized and reported by Carl Wunderlich in a famous 1868 book. But, is this value statistically correct?"
   ]
  },
  {
   "cell_type": "markdown",
   "metadata": {},
   "source": [
    "<h3>Exercises</h3>\n",
    "\n",
    "<p>In this exercise, you will analyze a dataset of human body temperatures and employ the concepts of hypothesis testing, confidence intervals, and statistical significance.</p>\n",
    "\n",
    "<p>Answer the following questions <b>in this notebook below and submit to your Github account</b>.</p> \n",
    "\n",
    "<ol>\n",
    "<li>  Is the distribution of body temperatures normal? \n",
    "    <ul>\n",
    "    <li> Although this is not a requirement for CLT to hold (read CLT carefully), it gives us some peace of mind that the population may also be normally distributed if we assume that this sample is representative of the population.\n",
    "    </ul>\n",
    "<li>  Is the sample size large? Are the observations independent?\n",
    "    <ul>\n",
    "    <li> Remember that this is a condition for the CLT, and hence the statistical tests we are using, to apply.\n",
    "    </ul>\n",
    "<li>  Is the true population mean really 98.6 degrees F?\n",
    "    <ul>\n",
    "    <li> Would you use a one-sample or two-sample test? Why?\n",
    "    <li> In this situation, is it appropriate to use the $t$ or $z$ statistic? \n",
    "    <li> Now try using the other test. How is the result be different? Why?\n",
    "    </ul>\n",
    "<li>  Draw a small sample of size 10 from the data and repeat both tests. \n",
    "    <ul>\n",
    "    <li> Which one is the correct one to use? \n",
    "    <li> What do you notice? What does this tell you about the difference in application of the $t$ and $z$ statistic?\n",
    "    </ul>\n",
    "<li>  At what temperature should we consider someone's temperature to be \"abnormal\"?\n",
    "    <ul>\n",
    "    <li> Start by computing the margin of error and confidence interval.\n",
    "    </ul>\n",
    "<li>  Is there a significant difference between males and females in normal temperature?\n",
    "    <ul>\n",
    "    <li> What test did you use and why?\n",
    "    <li> Write a story with your conclusion in the context of the original problem.\n",
    "    </ul>\n",
    "</ol>\n",
    "\n",
    "You can include written notes in notebook cells using Markdown: \n",
    "   - In the control panel at the top, choose Cell > Cell Type > Markdown\n",
    "   - Markdown syntax: http://nestacms.com/docs/creating-content/markdown-cheat-sheet\n",
    "\n",
    "#### Resources\n",
    "\n",
    "+ Information and data sources: http://www.amstat.org/publications/jse/datasets/normtemp.txt, http://www.amstat.org/publications/jse/jse_data_archive.htm\n",
    "+ Markdown syntax: http://nestacms.com/docs/creating-content/markdown-cheat-sheet\n",
    "\n",
    "****"
   ]
  },
  {
   "cell_type": "code",
   "execution_count": 48,
   "metadata": {
    "collapsed": true
   },
   "outputs": [],
   "source": [
    "import pandas as pd\n",
    "import seaborn as sns\n",
    "import matplotlib.pyplot as plt\n",
    "import numpy as np\n",
    "import statsmodels.stats.weightstats as sm\n",
    "from scipy import stats\n",
    "\n",
    "df = pd.read_csv('data/human_body_temperature.csv')"
   ]
  },
  {
   "cell_type": "markdown",
   "metadata": {},
   "source": [
    "# Question 1\n",
    "## Is the distribution of body temperatures normal?"
   ]
  },
  {
   "cell_type": "code",
   "execution_count": 49,
   "metadata": {},
   "outputs": [
    {
     "data": {
      "image/png": "[encoded data removed]",
      "text/plain": [
       "<matplotlib.figure.Figure at 0x14ac14d0668>"
      ]
     },
     "metadata": {},
     "output_type": "display_data"
    }
   ],
   "source": [
    "# Plot the data with a histogram with the kde overlayed.\n",
    "sns.distplot(df['temperature'])\n",
    "plt.show()"
   ]
  },
  {
   "cell_type": "markdown",
   "metadata": {},
   "source": [
    "The data seems to follow the normal distribution.  It could be very slightly skewed to one side."
   ]
  },
  {
   "cell_type": "markdown",
   "metadata": {},
   "source": [
    "# Question 2\n",
    "## Is the sample size large? Are the observations independent?"
   ]
  },
  {
   "cell_type": "markdown",
   "metadata": {},
   "source": [
    "The sample contains 130 entries.  Based on the Central Limit Theorem, the sample size is considered large.\n",
    "\n",
    "Whether or not the observations are independent depends on how the samples were obtained.  It is not clear from the background information whether or not it was a random sample without replacement or with replacement.  If it was with replacement, then yes the observations are independent; otherwise, it would not be.  However, I would lean towards assuming that the observations are independent."
   ]
  },
  {
   "cell_type": "markdown",
   "metadata": {},
   "source": [
    "# Question 3\n",
    "## Is the true population mean really 98.6 degrees F?"
   ]
  },
  {
   "cell_type": "markdown",
   "metadata": {},
   "source": [
    "In order to answer this question, we would use a one-sample test.  We don't use a two-sample test because we want to compare the sample mean against the mean of 98.6.\n",
    "\n",
    "In this situation, we would use the t-test because we don't know the population standard deviation."
   ]
  },
  {
   "cell_type": "code",
   "execution_count": 50,
   "metadata": {},
   "outputs": [
    {
     "name": "stdout",
     "output_type": "stream",
     "text": [
      "The sample mean is:  98.24923076923078\n",
      "The t-statistic is:  -5.45482329236\n",
      "The p-value is:  2.41063204156e-07\n"
     ]
    }
   ],
   "source": [
    "# The following is the 1-sample t-test.\n",
    "t_value, p_value = stats.ttest_1samp(df.temperature, 98.6)\n",
    "\n",
    "print('The sample mean is: ', df.temperature.mean())\n",
    "print('The t-statistic is: ', t_value)\n",
    "print('The p-value is: ', p_value)"
   ]
  },
  {
   "cell_type": "markdown",
   "metadata": {},
   "source": [
    "Based on the result above, we can safely reject the null hypothesis and conclude that the true population mean is different than 98.6.  It is highly unlikely that our sample mean of 98.25 would occur if the true population mean was 98.6.\n",
    "\n",
    "Let's see what happens if we run a z-test instead of a t-test."
   ]
  },
  {
   "cell_type": "code",
   "execution_count": 51,
   "metadata": {
    "scrolled": true
   },
   "outputs": [
    {
     "name": "stdout",
     "output_type": "stream",
     "text": [
      "The z-statistic is:  -5.45482329236\n",
      "The p-value is:  4.9021570141e-08\n"
     ]
    }
   ],
   "source": [
    "z_score, p_value = ztest(df.temperature, value=98.6)\n",
    "print('The z-statistic is: ', z_score)\n",
    "print('The p-value is: ', p_value)"
   ]
  },
  {
   "cell_type": "markdown",
   "metadata": {},
   "source": [
    "With the z-test, we would still reject the null hypothesis.  We would expect this because with a large enough sample size, their distributions are pretty much the same."
   ]
  },
  {
   "cell_type": "markdown",
   "metadata": {},
   "source": [
    "# Question 4\n",
    "## Draw a small sample of size 10 from the data and repeat both tests."
   ]
  },
  {
   "cell_type": "code",
   "execution_count": 52,
   "metadata": {},
   "outputs": [
    {
     "name": "stdout",
     "output_type": "stream",
     "text": [
      "[ 98.6  96.3  98.8  98.7  99.1  97.2  99.1  98.4  98.8  99.3]\n"
     ]
    }
   ],
   "source": [
    "# Set the seed for reproducible sampling from the dataframe.\n",
    "np.random.seed(10)\n",
    "\n",
    "# Sample from the dataframe.\n",
    "sample_temps = np.random.choice(df.temperature, 10)\n",
    "\n",
    "# Print the sample data.\n",
    "print(sample_temps)"
   ]
  },
  {
   "cell_type": "markdown",
   "metadata": {},
   "source": [
    "Now we'll run the t-test first."
   ]
  },
  {
   "cell_type": "code",
   "execution_count": 53,
   "metadata": {},
   "outputs": [
    {
     "name": "stdout",
     "output_type": "stream",
     "text": [
      "The sample mean is:  98.43\n",
      "The t-statistic is:  -0.56733244723\n",
      "The p-value is:  0.584359801476\n"
     ]
    }
   ],
   "source": [
    "t_value, p_value = stats.ttest_1samp(sample_temps, 98.6)\n",
    "\n",
    "print('The sample mean is: ', sample_temps.mean())\n",
    "print('The t-statistic is: ', t_value)\n",
    "print('The p-value is: ', p_value)"
   ]
  },
  {
   "cell_type": "markdown",
   "metadata": {},
   "source": [
    "The following is the z-test."
   ]
  },
  {
   "cell_type": "code",
   "execution_count": 54,
   "metadata": {},
   "outputs": [
    {
     "name": "stdout",
     "output_type": "stream",
     "text": [
      "The z-statistic is:  -0.56733244723\n",
      "The p-value is:  0.570488336142\n"
     ]
    }
   ],
   "source": [
    "z_score, p_value = ztest(sample_temps, value=98.6)\n",
    "print('The z-statistic is: ', z_score)\n",
    "print('The p-value is: ', p_value)"
   ]
  },
  {
   "cell_type": "markdown",
   "metadata": {
    "collapsed": true
   },
   "source": [
    "Because of the small sample size and the fact that we still don't know the population standard deviation, the correct test to use is the T-test.\n",
    "\n",
    "We see that the the p-values are again similar in this case and that we would reach the same conclusion in failing to reject the null hypothesis.\n",
    "\n",
    "The difference in the application of the t and z statistic lies in the what we know about the underlying population and the sample size.  If we know the population standard deviation and the sample size is greater than 30, then we would use the Z-test.  Otherwise, we would use the T-test."
   ]
  },
  {
   "cell_type": "markdown",
   "metadata": {},
   "source": [
    "# Question 5\n",
    "# At what temperature would we consider someone's temperature to be abnormal?"
   ]
  },
  {
   "cell_type": "markdown",
   "metadata": {},
   "source": [
    "Before peforming the hypothesis test we must make a few assumptions.  First, we must assume that the data is representative of the population and it was generated using simple random sampling.  Secondly, we will assume that the underlying distribution of the population is normal.\n",
    "\n",
    "We will define a temperature to be abnormal if it falls outside our 95% confidence interval of the mean of our dataset.\n",
    "\n",
    "We will perform a t-test to generate our confidence intervals."
   ]
  },
  {
   "cell_type": "code",
   "execution_count": 83,
   "metadata": {},
   "outputs": [
    {
     "name": "stdout",
     "output_type": "stream",
     "text": [
      "The 95% CI for the mean is:  (98.122002905608028, 98.376458632853499)\n",
      "The margin of error is:  0.2599999999999909\n"
     ]
    }
   ],
   "source": [
    "import statsmodels.stats.api as sms\n",
    "\n",
    "print('The 95% CI for the mean is: ', sms.DescrStatsW(df.temperature).tconfint_mean())\n",
    "print('The margin of error is: ', 98.38-98.12)\n"
   ]
  },
  {
   "cell_type": "markdown",
   "metadata": {},
   "source": [
    "# Question 6\n",
    "## Is there a significant difference between males and females in normal temperature?"
   ]
  },
  {
   "cell_type": "markdown",
   "metadata": {},
   "source": [
    "We will be using the two-sample t-test to answer this question.  We use this test because we don't know the true population's standard deviation.\n",
    "\n",
    "We will be splitting the data into males and females.  We also will be assuming that these two samples are independent.\n",
    "\n",
    "The CLT will hold because the samples sizes are large enough and we're assuming that a simple random sampling was performed."
   ]
  },
  {
   "cell_type": "code",
   "execution_count": 88,
   "metadata": {},
   "outputs": [
    {
     "name": "stdout",
     "output_type": "stream",
     "text": [
      "The T-Statistic is:  2.28543453817\n",
      "The p-value is:  0.0239318831224\n"
     ]
    }
   ],
   "source": [
    "t_value, p_value = stats.ttest_ind(df[df.gender == 'F'].temperature, df[df.gender == 'M'].temperature)\n",
    "\n",
    "print('The T-Statistic is: ', t_value)\n",
    "print('The p-value is: ', p_value)"
   ]
  },
  {
   "cell_type": "markdown",
   "metadata": {},
   "source": [
    "We reject the null hypothesis and conclude that there is a statistical difference in the average temperatures of males and females."
   ]
  },
  {
   "cell_type": "markdown",
   "metadata": {},
   "source": [
    "# Conclusions\n",
    "\n",
    "We can conclude the following things:\n",
    "1. The true normal human body temperature is not 98.6.  \n",
    "2. The distribution of human body temperatures is normal\n",
    "3. There is a difference in the average temperature for males and females."
   ]
  }
 ],
 "metadata": {
  "kernelspec": {
   "display_name": "Python 3",
   "language": "python",
   "name": "python3"
  },
  "language_info": {
   "codemirror_mode": {
    "name": "ipython",
    "version": 3
   },
   "file_extension": ".py",
   "mimetype": "text/x-python",
   "name": "python",
   "nbconvert_exporter": "python",
   "pygments_lexer": "ipython3",
   "version": "3.6.3"
  }
 },
 "nbformat": 4,
 "nbformat_minor": 1
}
