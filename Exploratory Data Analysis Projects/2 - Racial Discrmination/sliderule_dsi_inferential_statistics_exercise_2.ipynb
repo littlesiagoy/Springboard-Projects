{
 "cells": [
  {
   "cell_type": "markdown",
   "metadata": {},
   "source": [
    "# Examining Racial Discrimination in the US Job Market\n",
    "\n",
    "### Background\n",
    "Racial discrimination continues to be pervasive in cultures throughout the world. Researchers examined the level of racial discrimination in the United States labor market by randomly assigning identical résumés to black-sounding or white-sounding names and observing the impact on requests for interviews from employers.\n",
    "\n",
    "### Data\n",
    "In the dataset provided, each row represents a resume. The 'race' column has two values, 'b' and 'w', indicating black-sounding and white-sounding. The column 'call' has two values, 1 and 0, indicating whether the resume received a call from employers or not.\n",
    "\n",
    "Note that the 'b' and 'w' values in race are assigned randomly to the resumes when presented to the employer."
   ]
  },
  {
   "cell_type": "markdown",
   "metadata": {},
   "source": [
    "### Exercises\n",
    "You will perform a statistical analysis to establish whether race has a significant impact on the rate of callbacks for resumes.\n",
    "\n",
    "Answer the following questions **in this notebook below and submit to your Github account**. \n",
    "\n",
    "   1. What test is appropriate for this problem? Does CLT apply?\n",
    "   2. What are the null and alternate hypotheses?\n",
    "   3. Compute margin of error, confidence interval, and p-value.\n",
    "   4. Write a story describing the statistical significance in the context or the original problem.\n",
    "   5. Does your analysis mean that race/name is the most important factor in callback success? Why or why not? If not, how would you amend your analysis?\n",
    "\n",
    "You can include written notes in notebook cells using Markdown: \n",
    "   - In the control panel at the top, choose Cell > Cell Type > Markdown\n",
    "   - Markdown syntax: http://nestacms.com/docs/creating-content/markdown-cheat-sheet\n",
    "\n",
    "\n",
    "#### Resources\n",
    "+ Experiment information and data source: http://www.povertyactionlab.org/evaluation/discrimination-job-market-united-states\n",
    "+ Scipy statistical methods: http://docs.scipy.org/doc/scipy/reference/stats.html \n",
    "+ Markdown syntax: http://nestacms.com/docs/creating-content/markdown-cheat-sheet\n",
    "****"
   ]
  },
  {
   "cell_type": "code",
   "execution_count": 13,
   "metadata": {
    "collapsed": true
   },
   "outputs": [],
   "source": [
    "import pandas as pd\n",
    "import numpy as np\n",
    "import math\n",
    "from scipy import stats\n",
    "from statsmodels.stats.proportion import proportions_ztest\n",
    "from statsmodels.stats.weightstats import zconfint"
   ]
  },
  {
   "cell_type": "code",
   "execution_count": 4,
   "metadata": {
    "collapsed": true
   },
   "outputs": [],
   "source": [
    "data = pd.io.stata.read_stata('data/us_job_market_discrimination.dta')"
   ]
  },
  {
   "cell_type": "code",
   "execution_count": 61,
   "metadata": {},
   "outputs": [
    {
     "data": {
      "text/plain": [
       "Index(['id', 'ad', 'education', 'ofjobs', 'yearsexp', 'honors', 'volunteer',\n",
       "       'military', 'empholes', 'occupspecific', 'occupbroad', 'workinschool',\n",
       "       'email', 'computerskills', 'specialskills', 'firstname', 'sex', 'race',\n",
       "       'h', 'l', 'call', 'city', 'kind', 'adid', 'fracblack', 'fracwhite',\n",
       "       'lmedhhinc', 'fracdropout', 'fraccolp', 'linc', 'col', 'expminreq',\n",
       "       'schoolreq', 'eoe', 'parent_sales', 'parent_emp', 'branch_sales',\n",
       "       'branch_emp', 'fed', 'fracblack_empzip', 'fracwhite_empzip',\n",
       "       'lmedhhinc_empzip', 'fracdropout_empzip', 'fraccolp_empzip',\n",
       "       'linc_empzip', 'manager', 'supervisor', 'secretary', 'offsupport',\n",
       "       'salesrep', 'retailsales', 'req', 'expreq', 'comreq', 'educreq',\n",
       "       'compreq', 'orgreq', 'manuf', 'transcom', 'bankreal', 'trade',\n",
       "       'busservice', 'othservice', 'missind', 'ownership'],\n",
       "      dtype='object')"
      ]
     },
     "execution_count": 61,
     "metadata": {},
     "output_type": "execute_result"
    }
   ],
   "source": [
    "data.columns"
   ]
  },
  {
   "cell_type": "markdown",
   "metadata": {
    "collapsed": true
   },
   "source": [
    "# Question 1\n",
    "\n",
    "The Z-test is appropriate becausewe will be performing a test of two proportions.  We will determining if there is a statistical difference in the proportion of people that get a callback (success) if we factor in race.\n",
    "\n",
    "The CLT does apply because the assumption test of success and failures times the sample sizes are greater than 5."
   ]
  },
  {
   "cell_type": "code",
   "execution_count": 6,
   "metadata": {},
   "outputs": [
    {
     "name": "stdout",
     "output_type": "stream",
     "text": [
      "2278.0\n",
      "157.0\n",
      "2200.0\n",
      "235.0\n"
     ]
    }
   ],
   "source": [
    "# Subset the data into black sounding names and white sounding names.\n",
    "b_sounding_names = data.loc[data['race'] == 'b']\n",
    "w_sounding_names = data.loc[data['race'] == 'w']\n",
    "\n",
    "# Get the proprtion of successes and failures for black sounding names.\n",
    "b_proportion_success = b_sounding_names['call'].sum() / b_sounding_names.shape[0]\n",
    "b_proportion_fail = (b_sounding_names.shape[0] - b_sounding_names['call'].sum()) / b_sounding_names.shape[0]\n",
    "\n",
    "# Get the proportion of successes and failures for white sounding names.\n",
    "w_proportion_success = w_sounding_names['call'].sum() / w_sounding_names.shape[0]\n",
    "w_proportion_fail = (w_sounding_names.shape[0] - w_sounding_names['call'].sum()) / w_sounding_names.shape[0]\n",
    "\n",
    "print(b_proportion_fail * b_sounding_names.shape[0])\n",
    "print(b_proportion_success * b_sounding_names.shape[0])\n",
    "print(w_proportion_fail * w_sounding_names.shape[0])\n",
    "print(w_proportion_success * w_sounding_names.shape[0])"
   ]
  },
  {
   "cell_type": "markdown",
   "metadata": {},
   "source": [
    "# Question 2\n",
    "\n",
    "The null hypothesis is that the proportion of callbacks for white sounding names is equal to the proportion of callsbacks for black sounding names.\n",
    "\n",
    "The alterative hypothesis is that the two proportions are not equal."
   ]
  },
  {
   "cell_type": "markdown",
   "metadata": {},
   "source": [
    "# Question 3\n",
    "\n",
    "The following is the Z-Statistic p-value."
   ]
  },
  {
   "cell_type": "code",
   "execution_count": 7,
   "metadata": {},
   "outputs": [
    {
     "name": "stdout",
     "output_type": "stream",
     "text": [
      "3.98388683759e-05\n"
     ]
    }
   ],
   "source": [
    "z_statistic, p_value = proportions_ztest([b_sounding_names['call'].sum(), w_sounding_names['call'].sum()], \n",
    "                                         [b_sounding_names.shape[0], w_sounding_names.shape[0]])\n",
    "print(p_value)"
   ]
  },
  {
   "cell_type": "markdown",
   "metadata": {},
   "source": [
    "The following is the 95% confidence interval."
   ]
  },
  {
   "cell_type": "code",
   "execution_count": 57,
   "metadata": {},
   "outputs": [
    {
     "name": "stdout",
     "output_type": "stream",
     "text": [
      "(-0.047288 , -0.016777)\n"
     ]
    }
   ],
   "source": [
    "# (p1 - p2) +/- (z_value * std_error)\n",
    "upper = (b_proportion_success - w_proportion_success) + 1.96 * math.sqrt(((b_proportion_success * b_proportion_fail) / b_sounding_names.shape[0]) + ((w_proportion_success * w_proportion_fail) / w_sounding_names.shape[0]))\n",
    "lower = (b_proportion_success - w_proportion_success) - 1.96 * math.sqrt(((b_proportion_success * b_proportion_fail) / b_sounding_names.shape[0]) + ((w_proportion_success * w_proportion_fail) / w_sounding_names.shape[0]))\n",
    "\n",
    "print(\"(%f , %f)\" % (lower,upper))"
   ]
  },
  {
   "cell_type": "markdown",
   "metadata": {},
   "source": [
    "The following is the margin of error."
   ]
  },
  {
   "cell_type": "code",
   "execution_count": 59,
   "metadata": {},
   "outputs": [
    {
     "name": "stdout",
     "output_type": "stream",
     "text": [
      "0.01525540634988644\n"
     ]
    }
   ],
   "source": [
    "margin_of_err = 1.96 * math.sqrt(((b_proportion_success * b_proportion_fail) / b_sounding_names.shape[0]) + ((w_proportion_success * w_proportion_fail) / w_sounding_names.shape[0]))\n",
    "\n",
    "print(margin_of_err)"
   ]
  },
  {
   "cell_type": "markdown",
   "metadata": {},
   "source": [
    "# Question 4\n",
    "\n",
    "We reject the null hypothesis and conclude that the difference in proportions for white sounding names receiving callbacks and the black sounding names receiving callbacks is statistically significant."
   ]
  },
  {
   "cell_type": "markdown",
   "metadata": {},
   "source": [
    "# Question 5\n",
    "\n",
    "This analysis does not mean that race is the most important factor in callback success.  All this analysis shows is that race plays a difference in callback rates between white and black sounding names.\n",
    "\n",
    "If we are to determine whether or not race is the most important fact, then we would have to run the appropriate hypothesis test comparing all of the possible factors given the data we have."
   ]
  }
 ],
 "metadata": {
  "kernelspec": {
   "display_name": "Python 3",
   "language": "python",
   "name": "python3"
  },
  "language_info": {
   "codemirror_mode": {
    "name": "ipython",
    "version": 3
   },
   "file_extension": ".py",
   "mimetype": "text/x-python",
   "name": "python",
   "nbconvert_exporter": "python",
   "pygments_lexer": "ipython3",
   "version": "3.6.3"
  }
 },
 "nbformat": 4,
 "nbformat_minor": 1
}
